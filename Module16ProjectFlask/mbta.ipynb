{
 "cells": [
  {
   "cell_type": "code",
   "execution_count": null,
   "metadata": {},
   "outputs": [],
   "source": [
    "mbtaURL = \"https://api-v3.mbta.com/vehicles?filter[route]=1&include=trip\"\n",
    "\n",
    "import urllib.request, json\n",
    "with urllib.request.urlopen(mbtaURL) as url:\n",
    "    data = json.loads(url.read().decode())\n",
    "   \n",
    "    with open('data.json', 'w') as outfile:\n",
    "        json.dump(data, outfile)\n",
    "   \n",
    "    with open('data.txt', 'w') as outfile:\n",
    "        json.dump(json.dumps(data, indent=4, sort_keys=True), outfile)\n",
    "       \n",
    "    print(json.dumps(data, indent=4, sort_keys=True))\n",
    "\n"
   ]
  }
 ],
 "metadata": {
  "language_info": {
   "name": "python"
  }
 },
 "nbformat": 4,
 "nbformat_minor": 2
}
